{
 "cells": [
  {
   "cell_type": "markdown",
   "metadata": {},
   "source": [
    "## Visualizing the trained filters"
   ]
  },
  {
   "cell_type": "code",
   "execution_count": 29,
   "metadata": {},
   "outputs": [],
   "source": [
    "# some startup! \n",
    "import numpy as np\n",
    "import matplotlib\n",
    "# This is needed to save images \n",
    "matplotlib.use('Agg')\n",
    "import matplotlib.pyplot as plt\n",
    "import torch"
   ]
  },
  {
   "cell_type": "code",
   "execution_count": 40,
   "metadata": {},
   "outputs": [],
   "source": [
    "# load the model saved by train.py\n",
    "# This will be an instance of models.softmax.Softmax.\n",
    "# NOTE: You may need to change this file name.\n",
    "\n",
    "#model = torch.load('softmax.pt')\n",
    "#model = torch.load('twolayernn.pt')\n",
    "# model = torch.load('convnet.pt'); model_name = \"convnet\"; imgDim = 5\n",
    "model = torch.load('mymodel.pt'); model_name = \"mymodel\"; imgDim = 3\n"
   ]
  },
  {
   "cell_type": "code",
   "execution_count": 41,
   "metadata": {},
   "outputs": [
    {
     "name": "stdout",
     "output_type": "stream",
     "text": [
      "torch.Size([64, 3, 3, 3])\n",
      "figure saved\n"
     ]
    }
   ],
   "source": [
    "# collect all the weights\n",
    "w = None\n",
    "#############################################################################\n",
    "# TODO: Extract the weight matrix (without bias) from softmax_model, convert\n",
    "# it to a numpy array with shape (10, 32, 32, 3), and assign this array to w.\n",
    "# The first dimension should be for channels, then height, width, and color.\n",
    "# This step depends on how you implemented models.softmax.Softmax.\n",
    "#############################################################################\n",
    "#print(softmax_model)\n",
    "#print(softmax_model.linear.weight.shape)\n",
    "w_tensor = model.conv1.weight\n",
    "b_tensor = model.conv1.bias #not used\n",
    "sizes = w_tensor.size()\n",
    "print(sizes)\n",
    "'''\n",
    "print(f'w_tensor shape = {sizes}')\n",
    "print(w_tensor[0][0])\n",
    "print(w_tensor[0][1])\n",
    "print(w_tensor[0][2])\n",
    "\n",
    "print(w_tensor[0][3069])\n",
    "print(w_tensor[0][3070])\n",
    "print(w_tensor[0][3071])\n",
    "'''\n",
    "#for softmax and twolayernn\n",
    "#'''\n",
    "w_tensor = w_tensor.view(sizes[0], imgDim, imgDim, 3)\n",
    "w = w_tensor.detach().numpy()\n",
    "#'''\n",
    "\n",
    "#for CNN\n",
    "'''\n",
    "w_tensor = w_tensor.view(10, 32, 32, 8)\n",
    "w_temp = w_tensor.detach().numpy()\n",
    "print(f'w shape = {w_temp.shape}')\n",
    "w = np.zeros((10, 32, 32, 3))\n",
    "for i in range(10):\n",
    "    for j in range(32):\n",
    "        for k in range(32):\n",
    "            for l in range(3):\n",
    "                w[i][j][k][l] = w_temp[i][j][k][l]\n",
    "'''\n",
    "'''\n",
    "print(f'w shape = {w.shape}')\n",
    "print(w[0][0])\n",
    "print(w[0][2])\n",
    "'''\n",
    "#############################################################################\n",
    "#                             END OF YOUR CODE                              #\n",
    "#############################################################################\n",
    "# obtain min,max to normalize\n",
    "w_min, w_max = np.min(w), np.max(w)\n",
    "# classes\n",
    "classes = ['plane', 'car', 'bird', 'cat', 'deer', 'dog', 'frog', 'horse', 'ship', 'truck']\n",
    "# init figure \n",
    "fig = plt.figure(figsize=(6,6))\n",
    "for i in range(10):\n",
    "    wimg = 255.0*(w[i].squeeze() - w_min) / (w_max - w_min)\n",
    "    # subplot is (2,5) as ten filters are to be visualized\n",
    "    fig.add_subplot(2,5,i+1).imshow(wimg.astype('uint8'))\n",
    "# save fig! \n",
    "fig.savefig(f'{model_name}_filt.png')\n",
    "print('figure saved')"
   ]
  },
  {
   "cell_type": "code",
   "execution_count": 42,
   "metadata": {},
   "outputs": [
    {
     "name": "stdout",
     "output_type": "stream",
     "text": [
      "figure saved as a grid!\n"
     ]
    }
   ],
   "source": [
    "# vis_utils.py has helper code to view multiple filters in single image. Use this to visuzlize \n",
    "# neural network adn convnets. \n",
    "# import vis_utils\n",
    "from vis_utils import visualize_grid\n",
    "# saving the weights is now as simple as:\n",
    "plt.imsave(f'{model_name}_gridfilt.png',visualize_grid(w, padding=3).astype('uint8'))\n",
    "# padding is the space between images. Make sure that w is of shape: (N,H,W,C)\n",
    "print('figure saved as a grid!')"
   ]
  },
  {
   "cell_type": "code",
   "execution_count": null,
   "metadata": {},
   "outputs": [],
   "source": []
  }
 ],
 "metadata": {
  "kernelspec": {
   "display_name": "Python 3",
   "language": "python",
   "name": "python3"
  },
  "language_info": {
   "codemirror_mode": {
    "name": "ipython",
    "version": 3
   },
   "file_extension": ".py",
   "mimetype": "text/x-python",
   "name": "python",
   "nbconvert_exporter": "python",
   "pygments_lexer": "ipython3",
   "version": "3.6.1"
  }
 },
 "nbformat": 4,
 "nbformat_minor": 2
}
