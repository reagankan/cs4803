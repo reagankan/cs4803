{
 "cells": [
  {
   "cell_type": "markdown",
   "metadata": {},
   "source": [
    "## PyTorch data\n",
    "\n",
    "PyTorch comes with a nice paradigm for dealing with data which we'll use here. A PyTorch [`Dataset`](http://pytorch.org/docs/master/data.html#torch.utils.data.Dataset) knows where to find data in its raw form (files on disk) and how to load individual examples into Python datastructures. A PyTorch [`DataLoader`](http://pytorch.org/docs/master/data.html#torch.utils.data.DataLoader) takes a dataset and offers a variety of ways to sample batches from that dataset.\n",
    "\n",
    "Take a moment to browse through the `CIFAR10` `Dataset` in `2_pytorch/cifar10.py`, read the `DataLoader` documentation linked above, and see how these are used in the section of `train.py` that loads data. Note that in the first part of the homework we subtracted a mean CIFAR10 image from every image before feeding it in to our models. Here we subtract a constant color instead. Both methods are seen in practice and work equally well.\n",
    "\n",
    "PyTorch provides lots of vision datasets which can be imported directly from [`torchvision.datasets`](http://pytorch.org/docs/master/torchvision/datasets.html). Also see [`torchtext`](https://github.com/pytorch/text#datasets) for natural language datasets."
   ]
  },
  {
   "cell_type": "markdown",
   "metadata": {},
   "source": [
    "## Softmax Classifier in PyTorch\n",
    "\n",
    "In PyTorch Deep Learning building blocks are implemented in the neural network module [`torch.nn`](http://pytorch.org/docs/master/nn.html#) (usually imported as `nn`). A PyTorch model is typically a subclass of [`nn.Module`](http://pytorch.org/docs/master/nn.html#torch.nn.Module) and thereby gains a multitude of features. Because your logistic regressor is an `nn.Module` all of its parameters and sub-modules are accessible through the `.parameters()` and `.modules()` methods.\n",
    "\n",
    "Now implement a softmax classifier by filling in the marked sections of `models/softmax.py`. \n",
    "\n",
    "The main driver for this question is `train.py`. It reads arguments and model hyperparameter from the command line, loads CIFAR10 data and the specified model (in this case, softmax). Using the optimizer initialized with appropriate hyperparameters, it trains the model and reports performance on test data. \n",
    "\n",
    "Complete the following couple of sections in `train.py`:\n",
    "1. Initialize an optimizer from the torch.optim package\n",
    "2. Update the parameters in model using the optimizer initialized above\n",
    "\n",
    "At this point all of the components required to train the softmax classifer are complete for the softmax classifier. Now run\n",
    "\n",
    "    $ run_softmax.sh\n",
    "\n",
    "to train a model and save it to `softmax.pt`. This will also produce a `softmax.log` file which contains training details which we will visualize below.   \n",
    "\n",
    "**Note**: You may want to adjust the hyperparameters specified in `run_softmax.sh` to get reasonable performance."
   ]
  },
  {
   "cell_type": "markdown",
   "metadata": {},
   "source": [
    "## Visualizing the PyTorch model"
   ]
  },
  {
   "cell_type": "code",
   "execution_count": 4,
   "metadata": {},
   "outputs": [
    {
     "name": "stderr",
     "output_type": "stream",
     "text": [
      "/miniconda3/envs/cs4803/lib/python3.6/site-packages/ipykernel_launcher.py:7: UserWarning: \n",
      "This call to matplotlib.use() has no effect because the backend has already\n",
      "been chosen; matplotlib.use() must be called *before* pylab, matplotlib.pyplot,\n",
      "or matplotlib.backends is imported for the first time.\n",
      "\n",
      "The backend was *originally* set to 'module://ipykernel.pylab.backend_inline' by the following code:\n",
      "  File \"/miniconda3/envs/cs4803/lib/python3.6/runpy.py\", line 193, in _run_module_as_main\n",
      "    \"__main__\", mod_spec)\n",
      "  File \"/miniconda3/envs/cs4803/lib/python3.6/runpy.py\", line 85, in _run_code\n",
      "    exec(code, run_globals)\n",
      "  File \"/miniconda3/envs/cs4803/lib/python3.6/site-packages/ipykernel_launcher.py\", line 16, in <module>\n",
      "    app.launch_new_instance()\n",
      "  File \"/miniconda3/envs/cs4803/lib/python3.6/site-packages/traitlets/config/application.py\", line 664, in launch_instance\n",
      "    app.start()\n",
      "  File \"/miniconda3/envs/cs4803/lib/python3.6/site-packages/ipykernel/kernelapp.py\", line 583, in start\n",
      "    self.io_loop.start()\n",
      "  File \"/miniconda3/envs/cs4803/lib/python3.6/site-packages/tornado/platform/asyncio.py\", line 153, in start\n",
      "    self.asyncio_loop.run_forever()\n",
      "  File \"/miniconda3/envs/cs4803/lib/python3.6/asyncio/base_events.py\", line 421, in run_forever\n",
      "    self._run_once()\n",
      "  File \"/miniconda3/envs/cs4803/lib/python3.6/asyncio/base_events.py\", line 1425, in _run_once\n",
      "    handle._run()\n",
      "  File \"/miniconda3/envs/cs4803/lib/python3.6/asyncio/events.py\", line 127, in _run\n",
      "    self._callback(*self._args)\n",
      "  File \"/miniconda3/envs/cs4803/lib/python3.6/site-packages/tornado/ioloop.py\", line 690, in <lambda>\n",
      "    lambda f: self._run_callback(functools.partial(callback, future))\n",
      "  File \"/miniconda3/envs/cs4803/lib/python3.6/site-packages/tornado/ioloop.py\", line 743, in _run_callback\n",
      "    ret = callback()\n",
      "  File \"/miniconda3/envs/cs4803/lib/python3.6/site-packages/tornado/gen.py\", line 787, in inner\n",
      "    self.run()\n",
      "  File \"/miniconda3/envs/cs4803/lib/python3.6/site-packages/tornado/gen.py\", line 748, in run\n",
      "    yielded = self.gen.send(value)\n",
      "  File \"/miniconda3/envs/cs4803/lib/python3.6/site-packages/ipykernel/kernelbase.py\", line 361, in process_one\n",
      "    yield gen.maybe_future(dispatch(*args))\n",
      "  File \"/miniconda3/envs/cs4803/lib/python3.6/site-packages/tornado/gen.py\", line 209, in wrapper\n",
      "    yielded = next(result)\n",
      "  File \"/miniconda3/envs/cs4803/lib/python3.6/site-packages/ipykernel/kernelbase.py\", line 268, in dispatch_shell\n",
      "    yield gen.maybe_future(handler(stream, idents, msg))\n",
      "  File \"/miniconda3/envs/cs4803/lib/python3.6/site-packages/tornado/gen.py\", line 209, in wrapper\n",
      "    yielded = next(result)\n",
      "  File \"/miniconda3/envs/cs4803/lib/python3.6/site-packages/ipykernel/kernelbase.py\", line 541, in execute_request\n",
      "    user_expressions, allow_stdin,\n",
      "  File \"/miniconda3/envs/cs4803/lib/python3.6/site-packages/tornado/gen.py\", line 209, in wrapper\n",
      "    yielded = next(result)\n",
      "  File \"/miniconda3/envs/cs4803/lib/python3.6/site-packages/ipykernel/ipkernel.py\", line 300, in do_execute\n",
      "    res = shell.run_cell(code, store_history=store_history, silent=silent)\n",
      "  File \"/miniconda3/envs/cs4803/lib/python3.6/site-packages/ipykernel/zmqshell.py\", line 536, in run_cell\n",
      "    return super(ZMQInteractiveShell, self).run_cell(*args, **kwargs)\n",
      "  File \"/miniconda3/envs/cs4803/lib/python3.6/site-packages/IPython/core/interactiveshell.py\", line 2858, in run_cell\n",
      "    raw_cell, store_history, silent, shell_futures)\n",
      "  File \"/miniconda3/envs/cs4803/lib/python3.6/site-packages/IPython/core/interactiveshell.py\", line 2886, in _run_cell\n",
      "    return runner(coro)\n",
      "  File \"/miniconda3/envs/cs4803/lib/python3.6/site-packages/IPython/core/async_helpers.py\", line 68, in _pseudo_sync_runner\n",
      "    coro.send(None)\n",
      "  File \"/miniconda3/envs/cs4803/lib/python3.6/site-packages/IPython/core/interactiveshell.py\", line 3063, in run_cell_async\n",
      "    interactivity=interactivity, compiler=compiler, result=result)\n",
      "  File \"/miniconda3/envs/cs4803/lib/python3.6/site-packages/IPython/core/interactiveshell.py\", line 3254, in run_ast_nodes\n",
      "    if (await self.run_code(code, result,  async_=asy)):\n",
      "  File \"/miniconda3/envs/cs4803/lib/python3.6/site-packages/IPython/core/interactiveshell.py\", line 3331, in run_code\n",
      "    exec(code_obj, self.user_global_ns, self.user_ns)\n",
      "  File \"<ipython-input-1-b4795f515c11>\", line 9, in <module>\n",
      "    get_ipython().run_line_magic('matplotlib', 'inline')\n",
      "  File \"/miniconda3/envs/cs4803/lib/python3.6/site-packages/IPython/core/interactiveshell.py\", line 2317, in run_line_magic\n",
      "    result = fn(*args, **kwargs)\n",
      "  File \"</miniconda3/envs/cs4803/lib/python3.6/site-packages/decorator.py:decorator-gen-108>\", line 2, in matplotlib\n",
      "  File \"/miniconda3/envs/cs4803/lib/python3.6/site-packages/IPython/core/magic.py\", line 187, in <lambda>\n",
      "    call = lambda f, *a, **k: f(*a, **k)\n",
      "  File \"/miniconda3/envs/cs4803/lib/python3.6/site-packages/IPython/core/magics/pylab.py\", line 99, in matplotlib\n",
      "    gui, backend = self.shell.enable_matplotlib(args.gui.lower() if isinstance(args.gui, str) else args.gui)\n",
      "  File \"/miniconda3/envs/cs4803/lib/python3.6/site-packages/IPython/core/interactiveshell.py\", line 3419, in enable_matplotlib\n",
      "    pt.activate_matplotlib(backend)\n",
      "  File \"/miniconda3/envs/cs4803/lib/python3.6/site-packages/IPython/core/pylabtools.py\", line 322, in activate_matplotlib\n",
      "    plt.switch_backend(backend)\n",
      "  File \"/miniconda3/envs/cs4803/lib/python3.6/site-packages/matplotlib/pyplot.py\", line 233, in switch_backend\n",
      "    _backend_mod, new_figure_manager, draw_if_interactive, _show = pylab_setup()\n",
      "  File \"/miniconda3/envs/cs4803/lib/python3.6/site-packages/matplotlib/backends/__init__.py\", line 62, in pylab_setup\n",
      "    [backend_name], 0)\n",
      "  File \"/miniconda3/envs/cs4803/lib/python3.6/site-packages/ipykernel/pylab/backend_inline.py\", line 173, in <module>\n",
      "    _enable_matplotlib_integration()\n",
      "  File \"/miniconda3/envs/cs4803/lib/python3.6/site-packages/ipykernel/pylab/backend_inline.py\", line 163, in _enable_matplotlib_integration\n",
      "    activate_matplotlib(backend)\n",
      "  File \"/miniconda3/envs/cs4803/lib/python3.6/site-packages/IPython/core/pylabtools.py\", line 322, in activate_matplotlib\n",
      "    plt.switch_backend(backend)\n",
      "  File \"/miniconda3/envs/cs4803/lib/python3.6/site-packages/matplotlib/pyplot.py\", line 231, in switch_backend\n",
      "    matplotlib.use(newbackend, warn=False, force=True)\n",
      "  File \"/miniconda3/envs/cs4803/lib/python3.6/site-packages/matplotlib/__init__.py\", line 1410, in use\n",
      "    reload(sys.modules['matplotlib.backends'])\n",
      "  File \"/miniconda3/envs/cs4803/lib/python3.6/importlib/__init__.py\", line 166, in reload\n",
      "    _bootstrap._exec(spec, module)\n",
      "  File \"/miniconda3/envs/cs4803/lib/python3.6/site-packages/matplotlib/backends/__init__.py\", line 16, in <module>\n",
      "    line for line in traceback.format_stack()\n",
      "\n",
      "\n",
      "  import sys\n"
     ]
    }
   ],
   "source": [
    "# Assuming that you have completed training the classifer, let us plot the training loss vs. iteration. This is an\n",
    "# example to show a simple way to log and plot data from PyTorch.\n",
    "\n",
    "# we neeed matplotlib to plot the graphs for us!\n",
    "import matplotlib\n",
    "# This is needed to save images \n",
    "matplotlib.use('Agg')\n",
    "import matplotlib.pyplot as plt\n",
    "%matplotlib inline"
   ]
  },
  {
   "cell_type": "code",
   "execution_count": 7,
   "metadata": {},
   "outputs": [],
   "source": [
    "# Parse the train and val losses one line at a time.\n",
    "import re\n",
    "# regexes to find train and val losses on a line\n",
    "float_regex = r'[-+]?(\\d+(\\.\\d*)?|\\.\\d+)([eE][-+]?\\d+)?'\n",
    "train_loss_re = re.compile('.*Train Loss: ({})'.format(float_regex))\n",
    "val_loss_re = re.compile('.*Val Loss: ({})'.format(float_regex))\n",
    "val_acc_re = re.compile('.*Val Acc: ({})'.format(float_regex))\n",
    "# extract one loss for each logged iteration\n",
    "train_losses = []\n",
    "val_losses = []\n",
    "val_accs = []\n",
    "# NOTE: You may need to change this file name.\n",
    "with open('softmax.log', 'r') as f:\n",
    "    for line in f:\n",
    "        train_match = train_loss_re.match(line)\n",
    "        val_match = val_loss_re.match(line)\n",
    "        val_acc_match = val_acc_re.match(line)\n",
    "        if train_match:\n",
    "            train_losses.append(float(train_match.group(1)))\n",
    "        if val_match:\n",
    "            val_losses.append(float(val_match.group(1)))\n",
    "        if val_acc_match:\n",
    "            val_accs.append(float(val_acc_match.group(1)))"
   ]
  },
  {
   "cell_type": "code",
   "execution_count": 8,
   "metadata": {},
   "outputs": [
    {
     "data": {
      "image/png": "[encoded data removed]",
      "text/plain": [
       "<Figure size 432x288 with 1 Axes>"
      ]
     },
     "metadata": {
      "needs_background": "light"
     },
     "output_type": "display_data"
    },
    {
     "data": {
      "image/png": "[encoded data removed]",
      "text/plain": [
       "<Figure size 432x288 with 1 Axes>"
      ]
     },
     "metadata": {
      "needs_background": "light"
     },
     "output_type": "display_data"
    }
   ],
   "source": [
    "fig = plt.figure()\n",
    "plt.plot(train_losses, label='train')\n",
    "plt.plot(val_losses, label='val')\n",
    "plt.title('Softmax Learning Curve')\n",
    "plt.ylabel('loss')\n",
    "plt.legend()\n",
    "fig.savefig('softmax_lossvstrain.png')\n",
    "\n",
    "fig = plt.figure()\n",
    "plt.plot(val_accs, label='val')\n",
    "plt.title('Softmax Validation Accuracy During Training')\n",
    "plt.ylabel('accuracy')\n",
    "plt.legend()\n",
    "fig.savefig('softmax_valaccuracy.png')"
   ]
  },
  {
   "cell_type": "code",
   "execution_count": null,
   "metadata": {},
   "outputs": [],
   "source": []
  }
 ],
 "metadata": {
  "kernelspec": {
   "display_name": "Python 3",
   "language": "python",
   "name": "python3"
  },
  "language_info": {
   "codemirror_mode": {
    "name": "ipython",
    "version": 3
   },
   "file_extension": ".py",
   "mimetype": "text/x-python",
   "name": "python",
   "nbconvert_exporter": "python",
   "pygments_lexer": "ipython3",
   "version": "3.6.1"
  }
 },
 "nbformat": 4,
 "nbformat_minor": 2
}
